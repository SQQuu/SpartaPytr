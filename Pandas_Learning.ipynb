{
 "cells": [
  {
   "cell_type": "markdown",
   "id": "0ee502e5-443e-4a94-9b88-ba77d9889658",
   "metadata": {},
   "source": [
    "### Introduction to Pandas\n",
    "\n",
    "Pandas is a high level data manipulation package which was built on top of Numpy. The key structures within pandas include series and dataframes"
   ]
  },
  {
   "cell_type": "markdown",
   "id": "40ae5ef7-3db9-46c3-84a9-b2a40423c67c",
   "metadata": {},
   "source": [
    "### Series\n",
    "\n",
    "A series is a one dimensional array with axis labels (an index)."
   ]
  },
  {
   "cell_type": "code",
   "execution_count": 2,
   "id": "19b299cb-fa4e-42ff-a018-772f00118dd4",
   "metadata": {},
   "outputs": [],
   "source": [
    "# Importing libraries and packages\n",
    "import numpy as np \n",
    "import pandas as pd\n",
    "from pandas import Series, DataFrame"
   ]
  },
  {
   "cell_type": "code",
   "execution_count": 4,
   "id": "61a4fd9c-7eee-428b-a8ea-b3cb8ad00d30",
   "metadata": {},
   "outputs": [
    {
     "data": {
      "text/plain": [
       "0    10\n",
       "1    20\n",
       "2    30\n",
       "3    40\n",
       "4    50\n",
       "dtype: int64"
      ]
     },
     "execution_count": 4,
     "metadata": {},
     "output_type": "execute_result"
    }
   ],
   "source": [
    "# Creating a series from a list\n",
    "x = pd.Series([10,20,30,40,50])\n",
    "x"
   ]
  },
  {
   "cell_type": "code",
   "execution_count": 5,
   "id": "927408b1-c5de-47c4-93b8-a19027a98936",
   "metadata": {},
   "outputs": [
    {
     "data": {
      "text/plain": [
       "RangeIndex(start=0, stop=5, step=1)"
      ]
     },
     "execution_count": 5,
     "metadata": {},
     "output_type": "execute_result"
    }
   ],
   "source": [
    "# We can access different components seperately:\n",
    "\n",
    "# Accessing the index\n",
    "x.index"
   ]
  },
  {
   "cell_type": "code",
   "execution_count": 6,
   "id": "62934e5f-3e93-4205-ae2d-c0d8f387da40",
   "metadata": {},
   "outputs": [
    {
     "data": {
      "text/plain": [
       "array([10, 20, 30, 40, 50], dtype=int64)"
      ]
     },
     "execution_count": 6,
     "metadata": {},
     "output_type": "execute_result"
    }
   ],
   "source": [
    "# Accessing values \n",
    "x.values "
   ]
  },
  {
   "cell_type": "code",
   "execution_count": 7,
   "id": "af5402dd-9346-43d3-ad28-75d691b99740",
   "metadata": {},
   "outputs": [
    {
     "data": {
      "text/plain": [
       "dtype('int64')"
      ]
     },
     "execution_count": 7,
     "metadata": {},
     "output_type": "execute_result"
    }
   ],
   "source": [
    "# Acessing the dataype\n",
    "# A series is an ndarray, thus its homogeneous and cannot store multiple datatypes\n",
    "x.dtype"
   ]
  },
  {
   "cell_type": "code",
   "execution_count": 8,
   "id": "ceafd140-0682-415f-ba9a-d86699405b51",
   "metadata": {},
   "outputs": [
    {
     "data": {
      "text/plain": [
       "Ken     450\n",
       "Taka    650\n",
       "Kura    870\n",
       "dtype: int64"
      ]
     },
     "execution_count": 8,
     "metadata": {},
     "output_type": "execute_result"
    }
   ],
   "source": [
    "# Creating a series with an index\n",
    "data = [450,650,870]\n",
    "Sales = Series(data, index=[\"Ken\", \"Taka\", \"Kura\"])\n",
    "Sales"
   ]
  },
  {
   "cell_type": "code",
   "execution_count": 9,
   "id": "fb4c91ce-613b-4bf4-adfc-fd82a3885b39",
   "metadata": {},
   "outputs": [
    {
     "data": {
      "text/plain": [
       "pandas.core.series.Series"
      ]
     },
     "execution_count": 9,
     "metadata": {},
     "output_type": "execute_result"
    }
   ],
   "source": [
    "# Check the type type\n",
    "type(Sales)"
   ]
  },
  {
   "cell_type": "code",
   "execution_count": 10,
   "id": "5b8e8bdd-0045-44af-a96d-82310c773dbb",
   "metadata": {},
   "outputs": [
    {
     "data": {
      "text/plain": [
       "Index(['Ken', 'Taka', 'Kura'], dtype='object')"
      ]
     },
     "execution_count": 10,
     "metadata": {},
     "output_type": "execute_result"
    }
   ],
   "source": [
    "# If we check the index of sales, we will get the values, rather than the range. Because it is a string.\n",
    "Sales.index"
   ]
  },
  {
   "cell_type": "markdown",
   "id": "e2ed3b82-d085-421c-ae0d-1c665ce2270a",
   "metadata": {},
   "source": [
    "### Accessing Values "
   ]
  },
  {
   "cell_type": "code",
   "execution_count": 12,
   "id": "446351cd-d826-4774-8784-bcbf90010fd4",
   "metadata": {},
   "outputs": [
    {
     "data": {
      "text/plain": [
       "450"
      ]
     },
     "execution_count": 12,
     "metadata": {},
     "output_type": "execute_result"
    }
   ],
   "source": [
    "#You can access values using the Index name\n",
    "Sales[\"Ken\"]"
   ]
  },
  {
   "cell_type": "code",
   "execution_count": 13,
   "id": "5721bca7-d6d6-4c41-8a90-aa979f81a66e",
   "metadata": {},
   "outputs": [
    {
     "data": {
      "text/plain": [
       "450"
      ]
     },
     "execution_count": 13,
     "metadata": {},
     "output_type": "execute_result"
    }
   ],
   "source": [
    "# You can still use traditional indexing \n",
    "Sales[0]"
   ]
  },
  {
   "cell_type": "markdown",
   "id": "b380a9e0-72a0-4e10-bcbf-4c23dd9e892c",
   "metadata": {},
   "source": [
    "### Checking for conditions"
   ]
  },
  {
   "cell_type": "code",
   "execution_count": 15,
   "id": "b2c7e1a1-9807-4fd3-8f47-671d28e19f2b",
   "metadata": {},
   "outputs": [
    {
     "data": {
      "text/plain": [
       "Ken     False\n",
       "Taka     True\n",
       "Kura     True\n",
       "dtype: bool"
      ]
     },
     "execution_count": 15,
     "metadata": {},
     "output_type": "execute_result"
    }
   ],
   "source": [
    "#You can filter based on conditions.\n",
    "Sales>500\n",
    "#This will usually return booleans"
   ]
  },
  {
   "cell_type": "code",
   "execution_count": 16,
   "id": "45404ae6-5c2e-4275-b934-9e8de4a71d03",
   "metadata": {},
   "outputs": [
    {
     "data": {
      "text/plain": [
       "Taka    650\n",
       "Kura    870\n",
       "dtype: int64"
      ]
     },
     "execution_count": 16,
     "metadata": {},
     "output_type": "execute_result"
    }
   ],
   "source": [
    "# We can use these booleans \n",
    "Sales [[False,True,True]]"
   ]
  },
  {
   "cell_type": "code",
   "execution_count": 17,
   "id": "c7fb3108-1130-4ec1-ae07-7acd9f743a62",
   "metadata": {},
   "outputs": [
    {
     "data": {
      "text/plain": [
       "Taka    650\n",
       "Kura    870\n",
       "dtype: int64"
      ]
     },
     "execution_count": 17,
     "metadata": {},
     "output_type": "execute_result"
    }
   ],
   "source": [
    "# If we want to see values greater than 500 we can use those booleans\n",
    "Sales[Sales>500]"
   ]
  },
  {
   "cell_type": "code",
   "execution_count": 19,
   "id": "1eeba3b2-945e-44c0-9a03-540f82cefa81",
   "metadata": {},
   "outputs": [
    {
     "data": {
      "text/plain": [
       "True"
      ]
     },
     "execution_count": 19,
     "metadata": {},
     "output_type": "execute_result"
    }
   ],
   "source": [
    "#Checking the names in the index\n",
    "\"Ken\" in Sales"
   ]
  },
  {
   "cell_type": "code",
   "execution_count": 21,
   "id": "a1ebd597-fdf3-433b-8721-9008564609ec",
   "metadata": {},
   "outputs": [
    {
     "data": {
      "text/plain": [
       "False"
      ]
     },
     "execution_count": 21,
     "metadata": {},
     "output_type": "execute_result"
    }
   ],
   "source": [
    "# False example \n",
    "\"Ame\" in Sales"
   ]
  },
  {
   "cell_type": "code",
   "execution_count": 22,
   "id": "7ce6783c-6df4-41cc-8dd1-0692b0f9d3e7",
   "metadata": {},
   "outputs": [
    {
     "data": {
      "text/plain": [
       "False"
      ]
     },
     "execution_count": 22,
     "metadata": {},
     "output_type": "execute_result"
    }
   ],
   "source": [
    "#What about this?\n",
    "450 in Sales\n",
    "#450 is not an index, its a value. Thus it will return False."
   ]
  },
  {
   "cell_type": "markdown",
   "id": "3b71874c-217b-41f1-9814-6c96137091bb",
   "metadata": {},
   "source": [
    "### Working with Dictionaries"
   ]
  },
  {
   "cell_type": "code",
   "execution_count": 23,
   "id": "68ed3d6a-7549-45c6-ae03-f205998ee832",
   "metadata": {},
   "outputs": [
    {
     "data": {
      "text/plain": [
       "{'Ken': 450, 'Taka': 650, 'Kura': 870}"
      ]
     },
     "execution_count": 23,
     "metadata": {},
     "output_type": "execute_result"
    }
   ],
   "source": [
    "#Converting a series to a dictionary\n",
    "sales_dict = Sales.to_dict()\n",
    "sales_dict"
   ]
  },
  {
   "cell_type": "code",
   "execution_count": 25,
   "id": "d2a19c93-c4bd-48ac-9579-f302af2def98",
   "metadata": {},
   "outputs": [
    {
     "data": {
      "text/plain": [
       "Ken     450\n",
       "Taka    650\n",
       "Kura    870\n",
       "dtype: int64"
      ]
     },
     "execution_count": 25,
     "metadata": {},
     "output_type": "execute_result"
    }
   ],
   "source": [
    "# Converting a dict to a Series \n",
    "sales_ser = Series(sales_dict)\n",
    "sales_ser"
   ]
  },
  {
   "cell_type": "markdown",
   "id": "02e9ae79-06f5-4157-bc82-1ae03d0ffc90",
   "metadata": {},
   "source": [
    "### Adding entries and working with Nan/null values"
   ]
  },
  {
   "cell_type": "code",
   "execution_count": 26,
   "id": "27df6701-0b9d-4e29-a584-975140ca6c65",
   "metadata": {},
   "outputs": [
    {
     "ename": "SyntaxError",
     "evalue": "invalid syntax (3381655713.py, line 3)",
     "output_type": "error",
     "traceback": [
      "\u001b[1;36m  Cell \u001b[1;32mIn[26], line 3\u001b[1;36m\u001b[0m\n\u001b[1;33m    new_sales = Series(Sales, index=[\"Ken\", \"Taka\", \"Kura\", \"Iwa, \"Miwa\"])\u001b[0m\n\u001b[1;37m                                                                   ^\u001b[0m\n\u001b[1;31mSyntaxError\u001b[0m\u001b[1;31m:\u001b[0m invalid syntax\n"
     ]
    }
   ],
   "source": [
    "#We can create a new series from an existing Series\n",
    "#If we specify in the index that were not there already, Nun values will be assigned\n",
    "new_sales = Series(Sales, index=[\"Ken\", \"Taka\", \"Kura\", \"Iwa, \"Miwa\"])\n",
    "\n",
    "                                 "
   ]
  },
  {
   "cell_type": "code",
   "execution_count": 27,
   "id": "8dc87c03-49b4-40d1-aba3-9f9602f3e4a7",
   "metadata": {},
   "outputs": [],
   "source": [
    "#We can check if there are ay Nan values in a Series\n"
   ]
  },
  {
   "cell_type": "code",
   "execution_count": 28,
   "id": "b3a6ced6-7b09-4fd9-bc03-8514e2efeccf",
   "metadata": {},
   "outputs": [
    {
     "ename": "NameError",
     "evalue": "name 'new_sales' is not defined",
     "output_type": "error",
     "traceback": [
      "\u001b[1;31m---------------------------------------------------------------------------\u001b[0m",
      "\u001b[1;31mNameError\u001b[0m                                 Traceback (most recent call last)",
      "Cell \u001b[1;32mIn[28], line 2\u001b[0m\n\u001b[0;32m      1\u001b[0m \u001b[38;5;66;03m#To check for null values, use pandas\u001b[39;00m\n\u001b[1;32m----> 2\u001b[0m pd\u001b[38;5;241m.\u001b[39misnull(\u001b[43mnew_sales\u001b[49m)\n",
      "\u001b[1;31mNameError\u001b[0m: name 'new_sales' is not defined"
     ]
    }
   ],
   "source": [
    "#To check for null values, use pandas\n",
    "pd.isnull(new_sales)"
   ]
  },
  {
   "cell_type": "markdown",
   "id": "02448ac3-3f78-46a5-ad7f-94b8240046ee",
   "metadata": {},
   "source": [
    "### Naming components in a Series"
   ]
  },
  {
   "cell_type": "code",
   "execution_count": 29,
   "id": "90a2b8d3-cd62-4575-a1a7-e6c7e24bffcb",
   "metadata": {},
   "outputs": [
    {
     "data": {
      "text/plain": [
       "Sales person\n",
       "Ken     450\n",
       "Taka    650\n",
       "Kura    870\n",
       "dtype: int64"
      ]
     },
     "execution_count": 29,
     "metadata": {},
     "output_type": "execute_result"
    }
   ],
   "source": [
    "#Name an index \n",
    "Sales.index.name = \"Sales person\"\n",
    "Sales"
   ]
  },
  {
   "cell_type": "code",
   "execution_count": 30,
   "id": "d0e0d206-254e-4e33-9e13-ae2a57e5945c",
   "metadata": {},
   "outputs": [
    {
     "data": {
      "text/plain": [
       "Sales person\n",
       "Ken     450\n",
       "Taka    650\n",
       "Kura    870\n",
       "Name: Total tv sales, dtype: int64"
      ]
     },
     "execution_count": 30,
     "metadata": {},
     "output_type": "execute_result"
    }
   ],
   "source": [
    "# Naming a series \n",
    "Sales.name = \"Total tv sales\"\n",
    "Sales"
   ]
  },
  {
   "cell_type": "markdown",
   "id": "59e5a038-0dfb-4498-b22d-4b09c05ab8d7",
   "metadata": {},
   "source": [
    "### DataFrames\n",
    "\n",
    "Data frames are two-dimensional, size mutable, potentially, heterogeneous tabular data structures. This data structure contains TWO laveled axes (rows and the columns)."
   ]
  },
  {
   "cell_type": "code",
   "execution_count": 32,
   "id": "8632c882-7633-40f6-89f9-c5ddf5bda42e",
   "metadata": {},
   "outputs": [
    {
     "data": {
      "text/html": [
       "<div>\n",
       "<style scoped>\n",
       "    .dataframe tbody tr th:only-of-type {\n",
       "        vertical-align: middle;\n",
       "    }\n",
       "\n",
       "    .dataframe tbody tr th {\n",
       "        vertical-align: top;\n",
       "    }\n",
       "\n",
       "    .dataframe thead th {\n",
       "        text-align: right;\n",
       "    }\n",
       "</style>\n",
       "<table border=\"1\" class=\"dataframe\">\n",
       "  <thead>\n",
       "    <tr style=\"text-align: right;\">\n",
       "      <th></th>\n",
       "      <th>Name</th>\n",
       "      <th>Age</th>\n",
       "    </tr>\n",
       "  </thead>\n",
       "  <tbody>\n",
       "    <tr>\n",
       "      <th>0</th>\n",
       "      <td>Ken</td>\n",
       "      <td>20</td>\n",
       "    </tr>\n",
       "    <tr>\n",
       "      <th>1</th>\n",
       "      <td>Taka</td>\n",
       "      <td>23</td>\n",
       "    </tr>\n",
       "    <tr>\n",
       "      <th>2</th>\n",
       "      <td>Kura</td>\n",
       "      <td>41</td>\n",
       "    </tr>\n",
       "  </tbody>\n",
       "</table>\n",
       "</div>"
      ],
      "text/plain": [
       "   Name  Age\n",
       "0   Ken   20\n",
       "1  Taka   23\n",
       "2  Kura   41"
      ]
     },
     "execution_count": 32,
     "metadata": {},
     "output_type": "execute_result"
    }
   ],
   "source": [
    "# Creating a Dataframe from a list\n",
    "data =[[\"Ken\", 20], [\"Taka\", 23], [\"Kura\", 41]]\n",
    "\n",
    "# When we create a DataFrame, we can specify what the cokumn names are and the datatype is \n",
    "df = pd.DataFrame(data, columns=[\"Name\", \"Age\"])\n",
    "df"
   ]
  },
  {
   "cell_type": "markdown",
   "id": "6eff2d43-861d-472d-b651-749683dd9ee5",
   "metadata": {},
   "source": [
    "## Python Pandas Research/Practice"
   ]
  },
  {
   "cell_type": "markdown",
   "id": "d135aeb6-2810-4e4a-aa83-174337f69d92",
   "metadata": {},
   "source": [
    "### Creating DF from a dictionary"
   ]
  },
  {
   "cell_type": "code",
   "execution_count": 44,
   "id": "efd52fa1-4353-430a-8a61-50ce1082795c",
   "metadata": {},
   "outputs": [
    {
     "data": {
      "text/html": [
       "<div>\n",
       "<style scoped>\n",
       "    .dataframe tbody tr th:only-of-type {\n",
       "        vertical-align: middle;\n",
       "    }\n",
       "\n",
       "    .dataframe tbody tr th {\n",
       "        vertical-align: top;\n",
       "    }\n",
       "\n",
       "    .dataframe thead th {\n",
       "        text-align: right;\n",
       "    }\n",
       "</style>\n",
       "<table border=\"1\" class=\"dataframe\">\n",
       "  <thead>\n",
       "    <tr style=\"text-align: right;\">\n",
       "      <th></th>\n",
       "      <th>Name</th>\n",
       "      <th>Age</th>\n",
       "    </tr>\n",
       "  </thead>\n",
       "  <tbody>\n",
       "    <tr>\n",
       "      <th>0</th>\n",
       "      <td>Kazuya</td>\n",
       "      <td>50</td>\n",
       "    </tr>\n",
       "    <tr>\n",
       "      <th>1</th>\n",
       "      <td>Heihachi</td>\n",
       "      <td>76</td>\n",
       "    </tr>\n",
       "    <tr>\n",
       "      <th>2</th>\n",
       "      <td>Jin</td>\n",
       "      <td>22</td>\n",
       "    </tr>\n",
       "  </tbody>\n",
       "</table>\n",
       "</div>"
      ],
      "text/plain": [
       "       Name  Age\n",
       "0    Kazuya   50\n",
       "1  Heihachi   76\n",
       "2       Jin   22"
      ]
     },
     "execution_count": 44,
     "metadata": {},
     "output_type": "execute_result"
    }
   ],
   "source": [
    "#Creating DF from a dictionary\n",
    "#Just like DF from a list we create a dictionary\n",
    "data_tekk = {'Name': ['Kazuya', 'Heihachi', 'Jin'], 'Age': [50, 76, 22]}\n",
    "\n",
    "#When we create a DataFrame, we can specify what the cokumn names are and the datatype is \n",
    "df = pd.DataFrame(data_tekk, columns=[\"Name\", \"Age\"])\n",
    "df\n"
   ]
  },
  {
   "cell_type": "markdown",
   "id": "11e6f112-6097-4e91-b83a-eaa91c31c0fb",
   "metadata": {},
   "source": [
    "### Adding custom indexes to our DataFrame"
   ]
  },
  {
   "cell_type": "code",
   "execution_count": 37,
   "id": "3817b0af-6b78-476d-93c6-e1c90b662df4",
   "metadata": {},
   "outputs": [
    {
     "data": {
      "text/html": [
       "<div>\n",
       "<style scoped>\n",
       "    .dataframe tbody tr th:only-of-type {\n",
       "        vertical-align: middle;\n",
       "    }\n",
       "\n",
       "    .dataframe tbody tr th {\n",
       "        vertical-align: top;\n",
       "    }\n",
       "\n",
       "    .dataframe thead th {\n",
       "        text-align: right;\n",
       "    }\n",
       "</style>\n",
       "<table border=\"1\" class=\"dataframe\">\n",
       "  <thead>\n",
       "    <tr style=\"text-align: right;\">\n",
       "      <th></th>\n",
       "      <th>Name</th>\n",
       "      <th>Age</th>\n",
       "    </tr>\n",
       "  </thead>\n",
       "  <tbody>\n",
       "    <tr>\n",
       "      <th>K</th>\n",
       "      <td>Kazuya</td>\n",
       "      <td>50</td>\n",
       "    </tr>\n",
       "    <tr>\n",
       "      <th>H</th>\n",
       "      <td>Heihachi</td>\n",
       "      <td>76</td>\n",
       "    </tr>\n",
       "    <tr>\n",
       "      <th>J</th>\n",
       "      <td>Jin</td>\n",
       "      <td>22</td>\n",
       "    </tr>\n",
       "  </tbody>\n",
       "</table>\n",
       "</div>"
      ],
      "text/plain": [
       "       Name  Age\n",
       "K    Kazuya   50\n",
       "H  Heihachi   76\n",
       "J       Jin   22"
      ]
     },
     "execution_count": 37,
     "metadata": {},
     "output_type": "execute_result"
    }
   ],
   "source": [
    "#Adding custom indexes to our Data frame\n",
    "#We have decided to index by initials\n",
    "cust_ind = pd.DataFrame(data_tekk, index=[\"K\", \"H\", \"J\"])\n",
    "cust_ind"
   ]
  },
  {
   "cell_type": "markdown",
   "id": "c691c47a-b147-4d44-89fb-283b8d4fc172",
   "metadata": {},
   "source": [
    "### Creating DF from a list of dictionaries"
   ]
  },
  {
   "cell_type": "code",
   "execution_count": 45,
   "id": "84b0286d-11ec-4647-bf05-af3a26b9017c",
   "metadata": {},
   "outputs": [
    {
     "data": {
      "text/html": [
       "<div>\n",
       "<style scoped>\n",
       "    .dataframe tbody tr th:only-of-type {\n",
       "        vertical-align: middle;\n",
       "    }\n",
       "\n",
       "    .dataframe tbody tr th {\n",
       "        vertical-align: top;\n",
       "    }\n",
       "\n",
       "    .dataframe thead th {\n",
       "        text-align: right;\n",
       "    }\n",
       "</style>\n",
       "<table border=\"1\" class=\"dataframe\">\n",
       "  <thead>\n",
       "    <tr style=\"text-align: right;\">\n",
       "      <th></th>\n",
       "      <th>Name</th>\n",
       "      <th>Age</th>\n",
       "      <th>Title</th>\n",
       "    </tr>\n",
       "  </thead>\n",
       "  <tbody>\n",
       "    <tr>\n",
       "      <th>0</th>\n",
       "      <td>Jin</td>\n",
       "      <td>22</td>\n",
       "      <td>Kazama</td>\n",
       "    </tr>\n",
       "    <tr>\n",
       "      <th>1</th>\n",
       "      <td>Heihachi</td>\n",
       "      <td>76</td>\n",
       "      <td>Mishima</td>\n",
       "    </tr>\n",
       "    <tr>\n",
       "      <th>2</th>\n",
       "      <td>Kazuya</td>\n",
       "      <td>50</td>\n",
       "      <td>NaN</td>\n",
       "    </tr>\n",
       "  </tbody>\n",
       "</table>\n",
       "</div>"
      ],
      "text/plain": [
       "       Name  Age    Title\n",
       "0       Jin   22   Kazama\n",
       "1  Heihachi   76  Mishima\n",
       "2    Kazuya   50      NaN"
      ]
     },
     "execution_count": 45,
     "metadata": {},
     "output_type": "execute_result"
    }
   ],
   "source": [
    "#Creating a DF from a list of dictionaries\n",
    "dict_lst = [{\"Name\": \"Jin\", \"Age\": 22, \"Title\": \"Kazama\"}, {\"Name\": \"Heihachi\", \"Age\": 76, \"Title\": \"Mishima\"}, {\"Name\": \"Kazuya\", \"Age\": 50}]\n",
    "list_df = pd.DataFrame(dict_lst)\n",
    "list_df"
   ]
  },
  {
   "cell_type": "markdown",
   "id": "ab8bd39a-13c9-455b-a133-183961017a53",
   "metadata": {},
   "source": [
    "### Creating df from a series"
   ]
  },
  {
   "cell_type": "code",
   "execution_count": 56,
   "id": "0f5a85ff-87f6-4022-918c-f9be8eb8ffe3",
   "metadata": {},
   "outputs": [
    {
     "ename": "SyntaxError",
     "evalue": "invalid syntax (3821429011.py, line 5)",
     "output_type": "error",
     "traceback": [
      "\u001b[1;36m  Cell \u001b[1;32mIn[56], line 5\u001b[1;36m\u001b[0m\n\u001b[1;33m    sales_df\u001b[0m\n\u001b[1;37m    ^\u001b[0m\n\u001b[1;31mSyntaxError\u001b[0m\u001b[1;31m:\u001b[0m invalid syntax\n"
     ]
    }
   ],
   "source": [
    "#Creating df from a series\n",
    "#Converting a series to a Dataframe\n",
    "#Why is there a syntax error\n",
    "sales_df = [pd.DataFrame(Sales, columns=[\"Names\", \"Fiscal\"])\n",
    "            sales_df\n",
    "\n",
    "\n"
   ]
  },
  {
   "cell_type": "code",
   "execution_count": null,
   "id": "100f33d9-ca19-4220-90c0-84eb9c05ace7",
   "metadata": {},
   "outputs": [],
   "source": []
  }
 ],
 "metadata": {
  "kernelspec": {
   "display_name": "Python 3 (ipykernel)",
   "language": "python",
   "name": "python3"
  },
  "language_info": {
   "codemirror_mode": {
    "name": "ipython",
    "version": 3
   },
   "file_extension": ".py",
   "mimetype": "text/x-python",
   "name": "python",
   "nbconvert_exporter": "python",
   "pygments_lexer": "ipython3",
   "version": "3.8.10"
  }
 },
 "nbformat": 4,
 "nbformat_minor": 5
}
