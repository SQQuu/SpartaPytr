{
 "cells": [
  {
   "cell_type": "markdown",
   "id": "c05c0894-b662-44a0-ab41-91d41c6d1e5e",
   "metadata": {},
   "source": [
    "# Numpy"
   ]
  },
  {
   "cell_type": "markdown",
   "id": "361330a3-34db-4118-ad53-7fe548637b57",
   "metadata": {},
   "source": [
    "Numpy is a library which provides support for large, homogenous, multi dimensional arrays and matrices."
   ]
  },
  {
   "cell_type": "code",
   "execution_count": 8,
   "id": "20cfc63a-ef3e-41a7-9ac0-3e33ec134f2f",
   "metadata": {},
   "outputs": [],
   "source": [
    "#import numpy\n",
    "import numpy as np "
   ]
  },
  {
   "cell_type": "markdown",
   "id": "09411db3-e2a5-48d8-9f0f-732fedd2c79f",
   "metadata": {},
   "source": [
    "## Creating Arrays in Numpy\n",
    "### Creating an array from a list"
   ]
  },
  {
   "cell_type": "code",
   "execution_count": 6,
   "id": "46abced4-1c7c-4a28-9eb7-a9734ea846f4",
   "metadata": {},
   "outputs": [],
   "source": [
    "list1 = [10,20,30]"
   ]
  },
  {
   "cell_type": "code",
   "execution_count": 14,
   "id": "dbe502af-7a6a-430c-a914-4801ce879c79",
   "metadata": {},
   "outputs": [
    {
     "name": "stdout",
     "output_type": "stream",
     "text": [
      "[10, 20, 30]\n"
     ]
    },
    {
     "data": {
      "text/plain": [
       "[10, 20, 30]"
      ]
     },
     "execution_count": 14,
     "metadata": {},
     "output_type": "execute_result"
    }
   ],
   "source": [
    "print(list1)\n",
    "list1"
   ]
  },
  {
   "cell_type": "code",
   "execution_count": 9,
   "id": "d1fa151c-c2f0-4315-9535-bb25b8bf5f73",
   "metadata": {},
   "outputs": [],
   "source": [
    "arr1 = np.array(list1)"
   ]
  },
  {
   "cell_type": "code",
   "execution_count": 10,
   "id": "f0662444-8ede-41d8-b119-96060b908f46",
   "metadata": {},
   "outputs": [
    {
     "name": "stdout",
     "output_type": "stream",
     "text": [
      "[10 20 30]\n"
     ]
    }
   ],
   "source": [
    "print(arr1)"
   ]
  },
  {
   "cell_type": "code",
   "execution_count": 11,
   "id": "7ec4f335-052b-451f-8d5f-901088c86dfa",
   "metadata": {},
   "outputs": [
    {
     "data": {
      "text/plain": [
       "array([10, 20, 30])"
      ]
     },
     "execution_count": 11,
     "metadata": {},
     "output_type": "execute_result"
    }
   ],
   "source": [
    "arr1"
   ]
  },
  {
   "cell_type": "code",
   "execution_count": 12,
   "id": "90f687af-fe69-45bc-bf32-e6927d8c7d12",
   "metadata": {},
   "outputs": [
    {
     "data": {
      "text/plain": [
       "numpy.ndarray"
      ]
     },
     "execution_count": 12,
     "metadata": {},
     "output_type": "execute_result"
    }
   ],
   "source": [
    "type(arr1)"
   ]
  },
  {
   "cell_type": "markdown",
   "id": "cf882d70-b258-411d-8791-348f7f3601b4",
   "metadata": {},
   "source": [
    "### using arrange to create an array \n",
    "\n",
    "The difference between array and arrange is that array takes in a list and turn it into an array, whereas arange creates an array from a range of numbers."
   ]
  },
  {
   "cell_type": "code",
   "execution_count": 15,
   "id": "bc037fe5-54aa-4a67-a15f-f9e54efc9d95",
   "metadata": {},
   "outputs": [
    {
     "data": {
      "text/plain": [
       "array([10, 11, 12, 13, 14, 15, 16, 17, 18, 19])"
      ]
     },
     "execution_count": 15,
     "metadata": {},
     "output_type": "execute_result"
    }
   ],
   "source": [
    "arr2 = np.arange(10,20,1) # (start,stop,step size)\n",
    "arr2"
   ]
  },
  {
   "cell_type": "markdown",
   "id": "3d914eaf-eed6-4be8-a114-8c17b4c6d676",
   "metadata": {},
   "source": [
    "## Multidimensional arrays\n",
    "\n",
    "\n",
    "### Combining two list - Two Dimensional arrays\n",
    "\n",
    "When we combine arrays together, we can add dimension. Combining two arrays gives us a 2d array.\n",
    "\n",
    "This creates a matric for us on which we can perform matrix operations."
   ]
  },
  {
   "cell_type": "code",
   "execution_count": 16,
   "id": "d60a32b7-a972-478a-ac8e-7ee651e1c809",
   "metadata": {},
   "outputs": [
    {
     "data": {
      "text/plain": [
       "array([[10, 20, 30],\n",
       "       [40, 50, 60]])"
      ]
     },
     "execution_count": 16,
     "metadata": {},
     "output_type": "execute_result"
    }
   ],
   "source": [
    "#lets create a new list to join onto the first list \n",
    "list2 = [40,50,60]\n",
    "\n",
    "#join the lists\n",
    "list3 = [list1, list2]\n",
    "\n",
    "#create an array out of the joined lists\n",
    "arr3 = np.array(list3)\n",
    "arr3"
   ]
  },
  {
   "cell_type": "code",
   "execution_count": 17,
   "id": "2f2b1c23-aec1-4014-86aa-5e684b5c1689",
   "metadata": {},
   "outputs": [
    {
     "data": {
      "text/plain": [
       "(2, 3)"
      ]
     },
     "execution_count": 17,
     "metadata": {},
     "output_type": "execute_result"
    }
   ],
   "source": [
    "#lets find the shape of that array\n",
    "#we have a 2d array with 2 elements in the first instance and 3 in the second \n",
    "arr3.shape "
   ]
  },
  {
   "cell_type": "markdown",
   "id": "a76eebea-5287-4fb8-8248-b922b08a8dda",
   "metadata": {},
   "source": [
    "### Three dimensional arrays"
   ]
  },
  {
   "cell_type": "code",
   "execution_count": 62,
   "id": "1123af05-3bf2-4a8e-8dd8-bb6313e4fb1a",
   "metadata": {},
   "outputs": [
    {
     "data": {
      "text/plain": [
       "(2, 2, 3)"
      ]
     },
     "execution_count": 62,
     "metadata": {},
     "output_type": "execute_result"
    }
   ],
   "source": [
    "arr3dim = np.array([[[1,2,3],[3,4,5]],[[5,6,7],[7,8,9]]])\n",
    "arr3dim\n",
    "arr3dim.shape"
   ]
  },
  {
   "cell_type": "markdown",
   "id": "5002bbd4-7ceb-4f46-8c67-0eec517b051f",
   "metadata": {},
   "source": [
    "## Using Arrays and scalars\n",
    "\n",
    "Numpy arrays (or ndarray) allow us to perform matrix operations"
   ]
  },
  {
   "cell_type": "code",
   "execution_count": 63,
   "id": "3d9a7519-620a-4c26-bdbc-87201cef2fa2",
   "metadata": {},
   "outputs": [
    {
     "data": {
      "text/plain": [
       "array([[[ 3,  6,  9],\n",
       "        [ 9, 12, 15]],\n",
       "\n",
       "       [[15, 18, 21],\n",
       "        [21, 24, 27]]])"
      ]
     },
     "execution_count": 63,
     "metadata": {},
     "output_type": "execute_result"
    }
   ],
   "source": [
    "#for example, we can use simple multiplication \n",
    "arr3dim * 3"
   ]
  },
  {
   "cell_type": "code",
   "execution_count": 24,
   "id": "fc6e8bc3-79fe-48a1-b049-345d454ead4f",
   "metadata": {},
   "outputs": [
    {
     "data": {
      "text/plain": [
       "[10, 20, 30, 10, 20, 30, 10, 20, 30]"
      ]
     },
     "execution_count": 24,
     "metadata": {},
     "output_type": "execute_result"
    }
   ],
   "source": [
    "#How is this different than trying to do:\n",
    "list1 * 3\n",
    "#Lists and arrays are treated differently see below:"
   ]
  },
  {
   "cell_type": "code",
   "execution_count": 64,
   "id": "b6c37ab8-2671-449a-b77e-35788fd1a246",
   "metadata": {},
   "outputs": [],
   "source": [
    "# We can actually multiply an array with another array \n",
    "\n",
    "# create a new array with the same size as arr1\n",
    "arr1 = np.array"
   ]
  },
  {
   "cell_type": "code",
   "execution_count": 32,
   "id": "2f6a2f09-d646-4096-809c-2d15a21758fe",
   "metadata": {},
   "outputs": [],
   "source": [
    "### Can we multiple arrays of different shapes?"
   ]
  },
  {
   "cell_type": "markdown",
   "id": "1a6c8949-7fdd-496c-ae20-49548f70515d",
   "metadata": {},
   "source": [
    "### It is possible to multiple arrays of different dimension, but they need the same element size"
   ]
  },
  {
   "cell_type": "code",
   "execution_count": 65,
   "id": "09a190ba-90a5-4695-97ac-0c1b17e28c49",
   "metadata": {},
   "outputs": [
    {
     "ename": "TypeError",
     "evalue": "unsupported operand type(s) for *: 'builtin_function_or_method' and 'int'",
     "output_type": "error",
     "traceback": [
      "\u001b[1;31m---------------------------------------------------------------------------\u001b[0m",
      "\u001b[1;31mTypeError\u001b[0m                                 Traceback (most recent call last)",
      "Cell \u001b[1;32mIn[65], line 1\u001b[0m\n\u001b[1;32m----> 1\u001b[0m \u001b[43marr1\u001b[49m\u001b[43m \u001b[49m\u001b[38;5;241;43m*\u001b[39;49m\u001b[43m \u001b[49m\u001b[43marr3dim\u001b[49m \n",
      "\u001b[1;31mTypeError\u001b[0m: unsupported operand type(s) for *: 'builtin_function_or_method' and 'int'"
     ]
    }
   ],
   "source": [
    "arr1 * arr3dim "
   ]
  },
  {
   "cell_type": "markdown",
   "id": "0ac84142-d27a-4308-bcad-491f2908e4e8",
   "metadata": {},
   "source": [
    "### NEW TASK"
   ]
  },
  {
   "cell_type": "code",
   "execution_count": 34,
   "id": "0c07a796-c47b-4c69-8010-9c369fee7fb0",
   "metadata": {},
   "outputs": [
    {
     "data": {
      "text/plain": [
       "array([ 1,  2,  3,  4,  5,  6,  7,  8,  9, 10, 11, 12])"
      ]
     },
     "execution_count": 34,
     "metadata": {},
     "output_type": "execute_result"
    }
   ],
   "source": [
    "#One dimensional array with 12 elements (12,) \n",
    "arr7ask = np.arange(1,13,1) # (start,stop,step size)\n",
    "arr7ask"
   ]
  },
  {
   "cell_type": "code",
   "execution_count": 38,
   "id": "e0ab1387-d6aa-43de-91a0-f9e8a686af94",
   "metadata": {},
   "outputs": [
    {
     "data": {
      "text/plain": [
       "array([[100, 200, 300, 400],\n",
       "       [500, 501, 502, 503]])"
      ]
     },
     "execution_count": 38,
     "metadata": {},
     "output_type": "execute_result"
    }
   ],
   "source": [
    "#Two dimensional array size (3, 4)\n",
    "\n",
    "#create our first list\n",
    "list_x = [100,200,300,400]\n",
    "\n",
    "#create our second list\n",
    "list_c = [500,501,502,503]\n",
    "\n",
    "#join the lists\n",
    "list_v = [list_x, list_c,]\n",
    "\n",
    "#create an array out of the joined lists\n",
    "arr3 = np.array(list_v)\n",
    "arr3"
   ]
  },
  {
   "cell_type": "code",
   "execution_count": 36,
   "id": "da4477a1-41a6-4fd7-85a7-ed01c6a0d397",
   "metadata": {},
   "outputs": [
    {
     "data": {
      "text/plain": [
       "(3, 4)"
      ]
     },
     "execution_count": 36,
     "metadata": {},
     "output_type": "execute_result"
    }
   ],
   "source": [
    "#lets find the shape of that array\n",
    "#we have a 3d array with 3 elements in the first instance and 4 in the second \n",
    "arr3.shape "
   ]
  },
  {
   "cell_type": "code",
   "execution_count": 37,
   "id": "a3ffec8a-5818-4189-a81b-1b3320966104",
   "metadata": {},
   "outputs": [],
   "source": [
    "#Three dimensional array size (2, 5, 4)"
   ]
  },
  {
   "cell_type": "markdown",
   "id": "f2e20a1a-f165-40ad-ac12-5c26e5e5c6ce",
   "metadata": {},
   "source": [
    "### Accessing the values inside ndarrays\n",
    "\n",
    "lets take arr3 as our example, this was a 2d array"
   ]
  },
  {
   "cell_type": "code",
   "execution_count": 39,
   "id": "b088486b-b0ce-4f2e-8019-f2b378e7b94f",
   "metadata": {},
   "outputs": [
    {
     "data": {
      "text/plain": [
       "array([[100, 200, 300, 400],\n",
       "       [500, 501, 502, 503]])"
      ]
     },
     "execution_count": 39,
     "metadata": {},
     "output_type": "execute_result"
    }
   ],
   "source": [
    "arr3"
   ]
  },
  {
   "cell_type": "code",
   "execution_count": 40,
   "id": "41a57fa3-7f05-4e5d-a03f-34f9a93e55ba",
   "metadata": {},
   "outputs": [
    {
     "data": {
      "text/plain": [
       "502"
      ]
     },
     "execution_count": 40,
     "metadata": {},
     "output_type": "execute_result"
    }
   ],
   "source": [
    "# how can we access the 502\n",
    "\n",
    "# we can use indexing\n",
    "arr3[1][2]\n",
    "\n",
    "#we can just use a comma\n",
    "arr3[1,2]\n"
   ]
  },
  {
   "cell_type": "code",
   "execution_count": 41,
   "id": "2053d9b0-a8ef-42f1-b506-b6dee1356fe4",
   "metadata": {},
   "outputs": [
    {
     "data": {
      "text/plain": [
       "array([500, 501, 502, 503])"
      ]
     },
     "execution_count": 41,
     "metadata": {},
     "output_type": "execute_result"
    }
   ],
   "source": [
    "# How can I get the bottom row of this ndarray\n",
    "arr3[1]"
   ]
  },
  {
   "cell_type": "code",
   "execution_count": 42,
   "id": "39014104-ecab-4c29-be21-f1edfff2cee0",
   "metadata": {},
   "outputs": [
    {
     "data": {
      "text/plain": [
       "array([300, 502])"
      ]
     },
     "execution_count": 42,
     "metadata": {},
     "output_type": "execute_result"
    }
   ],
   "source": [
    "#How about if we just want the last COLUMN\n",
    "#: Means everything, so see below:\n",
    "arr3[:,2]"
   ]
  },
  {
   "cell_type": "markdown",
   "id": "ddb75740-6380-4968-8433-632c03108d6a",
   "metadata": {},
   "source": [
    "## Statistical  functions and arrays\n",
    "\n",
    "There are a number of builtin functions we can use with numpy"
   ]
  },
  {
   "cell_type": "code",
   "execution_count": 43,
   "id": "e53dba4f-a82a-404b-8b65-265003861529",
   "metadata": {},
   "outputs": [
    {
     "data": {
      "text/plain": [
       "3006"
      ]
     },
     "execution_count": 43,
     "metadata": {},
     "output_type": "execute_result"
    }
   ],
   "source": [
    "# Finding the sum of all values\n",
    "arr3.sum()"
   ]
  },
  {
   "cell_type": "code",
   "execution_count": 44,
   "id": "05d4d3a3-bd1e-423e-927e-0c22253e14f7",
   "metadata": {},
   "outputs": [
    {
     "data": {
      "text/plain": [
       "array([600, 701, 802, 903])"
      ]
     },
     "execution_count": 44,
     "metadata": {},
     "output_type": "execute_result"
    }
   ],
   "source": [
    "# Finding the sum od all columns\n",
    "arr3.sum(0)"
   ]
  },
  {
   "cell_type": "code",
   "execution_count": 45,
   "id": "539914d3-6d23-44ee-8f77-229d566baecb",
   "metadata": {},
   "outputs": [
    {
     "data": {
      "text/plain": [
       "array([1000, 2006])"
      ]
     },
     "execution_count": 45,
     "metadata": {},
     "output_type": "execute_result"
    }
   ],
   "source": [
    "# Finding the sum of all rows\n",
    "arr3.sum(1)"
   ]
  },
  {
   "cell_type": "code",
   "execution_count": 46,
   "id": "bc0949c8-aae8-4948-9cb0-007bae331ea3",
   "metadata": {},
   "outputs": [
    {
     "data": {
      "text/plain": [
       "375.75"
      ]
     },
     "execution_count": 46,
     "metadata": {},
     "output_type": "execute_result"
    }
   ],
   "source": [
    "# Finding the mean\n",
    "arr3.mean()"
   ]
  },
  {
   "cell_type": "code",
   "execution_count": 47,
   "id": "bc1fb8db-e029-4e84-8994-6d61a1aa9116",
   "metadata": {},
   "outputs": [
    {
     "data": {
      "text/plain": [
       "148.53850510894472"
      ]
     },
     "execution_count": 47,
     "metadata": {},
     "output_type": "execute_result"
    }
   ],
   "source": [
    "#Finding standard deviation\n",
    "arr3.std()"
   ]
  },
  {
   "cell_type": "code",
   "execution_count": 48,
   "id": "82293a02-3ac4-4359-a101-84763e8a223a",
   "metadata": {},
   "outputs": [
    {
     "data": {
      "text/plain": [
       "22063.6875"
      ]
     },
     "execution_count": 48,
     "metadata": {},
     "output_type": "execute_result"
    }
   ],
   "source": [
    "# Finding variance \n",
    "arr3.var()"
   ]
  },
  {
   "cell_type": "code",
   "execution_count": 50,
   "id": "3d5ea0a4-f4ae-4221-9c61-da9050894fe3",
   "metadata": {},
   "outputs": [
    {
     "data": {
      "text/plain": [
       "100"
      ]
     },
     "execution_count": 50,
     "metadata": {},
     "output_type": "execute_result"
    }
   ],
   "source": [
    "# Finding min\n",
    "arr3.min()"
   ]
  },
  {
   "cell_type": "code",
   "execution_count": 51,
   "id": "b0e0e8d8-310b-4a0e-ad34-d5e3e25a3a02",
   "metadata": {},
   "outputs": [
    {
     "data": {
      "text/plain": [
       "503"
      ]
     },
     "execution_count": 51,
     "metadata": {},
     "output_type": "execute_result"
    }
   ],
   "source": [
    "#finding max value\n",
    "arr3.max()"
   ]
  },
  {
   "cell_type": "markdown",
   "id": "61996316-456c-4ae9-ad27-26ff60bffaa3",
   "metadata": {},
   "source": [
    "## Iterating through ndarrays \n",
    "\n",
    "simplest way is to use a simmple loop"
   ]
  },
  {
   "cell_type": "code",
   "execution_count": 52,
   "id": "f5211a37-a570-4a20-aa47-879842c90468",
   "metadata": {},
   "outputs": [
    {
     "name": "stdout",
     "output_type": "stream",
     "text": [
      "10\n",
      "20\n",
      "30\n"
     ]
    }
   ],
   "source": [
    "# For a 1d array\n",
    "for x in arr1:\n",
    "    print(x)"
   ]
  },
  {
   "cell_type": "code",
   "execution_count": 53,
   "id": "9d316a7c-7906-4d82-9f8d-7ffb3c20f96a",
   "metadata": {},
   "outputs": [
    {
     "name": "stdout",
     "output_type": "stream",
     "text": [
      "100\n",
      "200\n",
      "300\n",
      "400\n",
      "500\n",
      "501\n",
      "502\n",
      "503\n"
     ]
    }
   ],
   "source": [
    "# How about an n-dimensional array? Use nested loops\n",
    "\n",
    "for dim in arr3:\n",
    "    for num in dim:\n",
    "        print (num)"
   ]
  },
  {
   "cell_type": "code",
   "execution_count": 54,
   "id": "4dc27e4b-adc2-489f-ae9c-bf9b89c7d2ac",
   "metadata": {},
   "outputs": [
    {
     "name": "stdout",
     "output_type": "stream",
     "text": [
      "100\n",
      "200\n",
      "300\n",
      "400\n",
      "500\n",
      "501\n",
      "502\n",
      "503\n"
     ]
    }
   ],
   "source": [
    "#There is another way, use nditer\n",
    "# this can be used in simple scenarios, but also very complex ones\n",
    "\n",
    "# It tends to be much cleaner for nested loops\n",
    "for x in np.nditer(arr3):\n",
    "    print(x)"
   ]
  },
  {
   "cell_type": "markdown",
   "id": "b63e3f2a-12f6-4109-8251-2506975d8f99",
   "metadata": {},
   "source": [
    "### Saving and loading in numpy "
   ]
  },
  {
   "cell_type": "code",
   "execution_count": 55,
   "id": "67aa83a5-3e3c-431d-b84c-c5b779dc581e",
   "metadata": {},
   "outputs": [],
   "source": [
    "# To save an array as a file\n",
    "np.save(\"new\", arr3)"
   ]
  },
  {
   "cell_type": "code",
   "execution_count": 57,
   "id": "72ff51fe-ef5f-479c-91f2-9b2cf3a13ed9",
   "metadata": {},
   "outputs": [
    {
     "data": {
      "text/plain": [
       "array([[100, 200, 300, 400],\n",
       "       [500, 501, 502, 503]])"
      ]
     },
     "execution_count": 57,
     "metadata": {},
     "output_type": "execute_result"
    }
   ],
   "source": [
    "# Load the file\n",
    "np.load(\"new.npy\")"
   ]
  },
  {
   "cell_type": "code",
   "execution_count": 59,
   "id": "78c80801-5b64-4524-bdfe-3a276c04d543",
   "metadata": {},
   "outputs": [],
   "source": [
    "#saving as a txt, delimiter lets us know how our datas stored.\n",
    "np.savetxt(\"new.txt\", arr3, delimiter=\",\") "
   ]
  },
  {
   "cell_type": "code",
   "execution_count": 60,
   "id": "72d24367-7f07-4c6f-a874-ed6b1376f65a",
   "metadata": {},
   "outputs": [
    {
     "data": {
      "text/plain": [
       "array([[100., 200., 300., 400.],\n",
       "       [500., 501., 502., 503.]])"
      ]
     },
     "execution_count": 60,
     "metadata": {},
     "output_type": "execute_result"
    }
   ],
   "source": [
    "# Loading a txt \n",
    "np.loadtxt(\"new.txt\", delimiter=\",\")"
   ]
  },
  {
   "cell_type": "code",
   "execution_count": null,
   "id": "beebb25a-3fae-43ac-ba47-53a35b4435ce",
   "metadata": {},
   "outputs": [],
   "source": []
  },
  {
   "cell_type": "code",
   "execution_count": null,
   "id": "41c2e980-3dc7-43d3-a9f8-8f5706874ab5",
   "metadata": {},
   "outputs": [],
   "source": []
  }
 ],
 "metadata": {
  "kernelspec": {
   "display_name": "Python 3 (ipykernel)",
   "language": "python",
   "name": "python3"
  },
  "language_info": {
   "codemirror_mode": {
    "name": "ipython",
    "version": 3
   },
   "file_extension": ".py",
   "mimetype": "text/x-python",
   "name": "python",
   "nbconvert_exporter": "python",
   "pygments_lexer": "ipython3",
   "version": "3.8.10"
  }
 },
 "nbformat": 4,
 "nbformat_minor": 5
}
